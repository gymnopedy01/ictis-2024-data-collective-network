{
  "nbformat": 4,
  "nbformat_minor": 0,
  "metadata": {
    "colab": {
      "provenance": [],
      "include_colab_link": true
    },
    "kernelspec": {
      "name": "python3",
      "display_name": "Python 3"
    },
    "language_info": {
      "name": "python"
    }
  },
  "cells": [
    {
      "cell_type": "markdown",
      "metadata": {
        "id": "view-in-github",
        "colab_type": "text"
      },
      "source": [
        "<a href=\"https://colab.research.google.com/github/gymnopedy01/ictis-2024-data-collective-network/blob/master/Ch04_%EB%B0%98%EB%B3%B5%EB%AC%B8_%EC%97%B0%EC%8A%B5%EB%AC%B8%EC%A0%9C_%EB%B0%B0%ED%8F%AC%EC%9A%A9.ipynb\" target=\"_parent\"><img src=\"https://colab.research.google.com/assets/colab-badge.svg\" alt=\"Open In Colab\"/></a>"
      ]
    },
    {
      "cell_type": "markdown",
      "source": [
        "#Ch04 연습문제\n"
      ],
      "metadata": {
        "id": "wVbRzgwmyQ1A"
      }
    },
    {
      "cell_type": "markdown",
      "source": [
        "##문제 1\n",
        "다음에 보인 리스트, `lst`에서 두 번째 요소와 마지막 요소를 출력 하는 `print()` 문을 완성하시오. (`print()` 한번 만 사용)\n",
        "\n",
        "```python\n",
        "lst = ['구숙정', '오천련', '매염방', '왕조현', '관지림']\n",
        "print( )\n",
        "```\n"
      ],
      "metadata": {
        "id": "yUIsh41DyW84"
      }
    },
    {
      "cell_type": "code",
      "source": [
        "lst = ['구숙정', '오천련', '매염방', '왕조현', '관지림']\n",
        "print(lst[1], lst[-1])"
      ],
      "metadata": {
        "colab": {
          "base_uri": "https://localhost:8080/"
        },
        "id": "r-MvL7UovtvB",
        "outputId": "804f9e64-15cc-4168-c972-4ca886e35d67"
      },
      "execution_count": 2,
      "outputs": [
        {
          "output_type": "stream",
          "name": "stdout",
          "text": [
            "오천련 관지림\n"
          ]
        }
      ]
    },
    {
      "cell_type": "markdown",
      "source": [
        "##문제 2\n",
        "다음 리스트, `lst`의 첫번째 요소는 문자열입니다. `lst`의 첫번째 요소인 문자열 데이터의 마지막 글자를 추출하는 코드를 작성하세요.\n",
        "\n",
        "```pyton\n",
        "lst = ['구숙정', 1968, '오천련', 1968, '한예슬', 1981]\n",
        "```\n",
        "\n",
        "\n"
      ],
      "metadata": {
        "id": "wkux1Nz-zRLv"
      }
    },
    {
      "cell_type": "code",
      "source": [
        "lst = ['구숙정', 1968, '오천련', 1968, '한예슬', 1981]\n",
        "print(lst[0][-1])"
      ],
      "metadata": {
        "colab": {
          "base_uri": "https://localhost:8080/"
        },
        "id": "K_cjGGblwF5H",
        "outputId": "0dcee2d1-498f-4f6d-faad-7677c108561e"
      },
      "execution_count": 5,
      "outputs": [
        {
          "output_type": "stream",
          "name": "stdout",
          "text": [
            "정\n"
          ]
        }
      ]
    },
    {
      "cell_type": "markdown",
      "source": [
        "## 문제 3\n",
        "다음 리스트, `lst`에서 두 번째 요소의 두 번째 요소는 `'b'`입니다. `lst`에서 두 번째 요소의 두 번째 요소를 추출하여 추력하는 코드를 완성하세요.\n",
        "\n",
        "```python\n",
        "lst = ['a', ['a', 'b', 'c'], 'b', ['b', 'c', 'd'], 'c', ['c', 'd', 'e'] ]\n",
        "\n",
        "print()\n",
        "```"
      ],
      "metadata": {
        "id": "FlJUXtiu0bFA"
      }
    },
    {
      "cell_type": "code",
      "source": [
        "lst = ['a', ['a', 'b', 'c'], 'b', ['b', 'c', 'd'], 'c', ['c', 'd', 'e'] ]\n",
        "\n",
        "print(lst[1][1])"
      ],
      "metadata": {
        "colab": {
          "base_uri": "https://localhost:8080/"
        },
        "id": "aDugu3VBwUA0",
        "outputId": "b28142b1-aebf-4b2f-8cfe-2d7219842870"
      },
      "execution_count": 7,
      "outputs": [
        {
          "output_type": "stream",
          "name": "stdout",
          "text": [
            "b\n"
          ]
        }
      ]
    },
    {
      "cell_type": "markdown",
      "source": [
        "## 문제 4\n",
        "아래 코드에 보인 리스트 `a`와 `b`를 활용하여 리스트 `rlst = [1, 2, 3, 1, 2, 3, 4, 5, 4, 5, 4, 5]`가 되도록 코드를 작성하시오.\n",
        "\n",
        "```python\n",
        "a = [1, 2, 3, ]\n",
        "b = [4, 5, ]\n",
        "```"
      ],
      "metadata": {
        "id": "aTZyECq_1VJf"
      }
    },
    {
      "cell_type": "code",
      "source": [
        "a = [1, 2, 3, ]\n",
        "b = [4, 5, ]\n",
        "\n",
        "result = a * 2 + b * 3\n",
        "print(result)"
      ],
      "metadata": {
        "colab": {
          "base_uri": "https://localhost:8080/"
        },
        "id": "lKIE0pUFwcEq",
        "outputId": "ec0763a9-8c3b-4092-fb54-dfd68ddf086b"
      },
      "execution_count": 26,
      "outputs": [
        {
          "output_type": "stream",
          "name": "stdout",
          "text": [
            "[1, 2, 3, 1, 2, 3, 4, 5, 4, 5, 4, 5]\n"
          ]
        }
      ]
    },
    {
      "cell_type": "markdown",
      "source": [
        "##문제 5\n",
        "아래 코드에 보인 `a`, `b`, `c`를 활용하여 문자열 데이터 `'She is a beautiful girl'`를 만들어 출력하는 코드를 작성하시오.\n",
        "\n",
        "```python\n",
        "a = ['She', 'is', 'a' ]\n",
        "b = 'beautiful'\n",
        "c = ['gril']\n",
        "```\n",
        "\n"
      ],
      "metadata": {
        "id": "n1k56pUL2Q5G"
      }
    },
    {
      "cell_type": "code",
      "source": [
        "a = ['She', 'is', 'a' ]\n",
        "b = 'beautiful'\n",
        "c = ['girl']\n",
        "\n",
        "result = [*a]\n",
        "result.append(b)\n",
        "result += [*c]\n",
        "\n",
        "print(' '.join(result))"
      ],
      "metadata": {
        "colab": {
          "base_uri": "https://localhost:8080/"
        },
        "id": "CfP8LUjkwx12",
        "outputId": "5043afed-cd1c-4715-cbd2-5e4ed65c3c77"
      },
      "execution_count": 34,
      "outputs": [
        {
          "output_type": "stream",
          "name": "stdout",
          "text": [
            "She is a beautiful girl\n"
          ]
        }
      ]
    },
    {
      "cell_type": "markdown",
      "source": [
        "## 문제 6\n",
        "아래 코드에 보인 a, b, c를 활용하여 리스트, `lst = ['She', 'is', 'a', 'beautiful' ,'girl']`를 만들어 출력하는 코드를 작성하시오.\n",
        "\n",
        "\n",
        "\n",
        "```python\n",
        "a = ['She', 'is', 'a' ]\n",
        "b = 'beautiful'\n",
        "c = ['gril']\n",
        "```"
      ],
      "metadata": {
        "id": "frhDHbJ031ug"
      }
    },
    {
      "cell_type": "code",
      "source": [
        "a = ['She', 'is', 'a' ]\n",
        "b = 'beautiful'\n",
        "c = ['girl']\n",
        "\n",
        "result = [*a]\n",
        "result.append(b)\n",
        "result += [*c]\n",
        "\n",
        "print( f'lst = {result}')"
      ],
      "metadata": {
        "colab": {
          "base_uri": "https://localhost:8080/"
        },
        "id": "4ljF0arc3CSy",
        "outputId": "0322994d-4155-4c71-e2f5-38b97467c96c"
      },
      "execution_count": 36,
      "outputs": [
        {
          "output_type": "stream",
          "name": "stdout",
          "text": [
            "lst = ['She', 'is', 'a', 'beautiful', 'girl']\n"
          ]
        }
      ]
    },
    {
      "cell_type": "markdown",
      "source": [
        "##문제 7\n",
        "아래와 같이 3명에 대한 정보가 담긴 메시지를 받았습니다.\n",
        "```python\n",
        "'김성필, 남, 50, 경기도 화성시 동탄, 010-9105-0000\\n구숙정, 여, 35, 경기도 용인시, 010-9105-1111\\n주성치, 남, 32, 경기도 수원시, 010-1111-2222'\n",
        "```\n",
        "\n",
        "주성치의 주소를 출력하는 코드를 작성하세요."
      ],
      "metadata": {
        "id": "WUSUS0C04mFu"
      }
    },
    {
      "cell_type": "code",
      "source": [
        "str = '김성필, 남, 50, 경기도 화성시 동탄, 010-9105-0000\\n구숙정, 여, 35, 경기도 용인시, 010-9105-1111\\n주성치, 남, 32, 경기도 수원시, 010-1111-2222'\n",
        "\n",
        "for row in str.split('\\n'):\n",
        "  if '주성치' in row:\n",
        "    print(row.split(',')[3])"
      ],
      "metadata": {
        "colab": {
          "base_uri": "https://localhost:8080/"
        },
        "id": "DItMN0sf3eD9",
        "outputId": "72897746-9990-4577-c94c-04983373ad7b"
      },
      "execution_count": 47,
      "outputs": [
        {
          "output_type": "stream",
          "name": "stdout",
          "text": [
            " 경기도 수원시\n"
          ]
        }
      ]
    },
    {
      "cell_type": "markdown",
      "source": [
        "##문제 8\n",
        "다음 리스트를 활용하여 아래와 같이 출력되도록 코드를 완성하시오.\n",
        "```python\n",
        "lst = ['홍길동', '남', 1973, '경기도 화성시']\n",
        "```\n",
        "\n",
        "```\n",
        "홍길동은 남성으로 1973년 생이며 주소는 경기도 화성시입니다.\n",
        "```"
      ],
      "metadata": {
        "id": "SQDbvmcQ6TSg"
      }
    },
    {
      "cell_type": "code",
      "source": [
        "lst = ['홍길동', '남', 1973, '경기도 화성시']\n",
        "\n",
        "print(f'{lst[0]}은 {lst[1]}성으로 {lst[2]}년 생이며 주소는 {lst[3]}입니다.')"
      ],
      "metadata": {
        "colab": {
          "base_uri": "https://localhost:8080/"
        },
        "id": "FLhX25l49hAa",
        "outputId": "bd06154e-df29-4dbc-aea9-55e9bbc06113"
      },
      "execution_count": 51,
      "outputs": [
        {
          "output_type": "stream",
          "name": "stdout",
          "text": [
            "홍길동은 남성으로 1973년 생이며 주소는 경기도 화성시입니다.\n"
          ]
        }
      ]
    },
    {
      "cell_type": "markdown",
      "source": [
        "## 문제 9\n",
        "아래 코드를 활용합니다. 리스트, `lst`의 요소가 문자열이면 해당 요소에 '님'을 붙이고 해당 요소가 문자열이 아닌 경우 해당 요소 값에 1을 증가 시켜 새로운 리스트, `rlst`를 생성하는 코드를 작성하시오.\n",
        "\n",
        "```python\n",
        "lst = ['홍길동', '전우치', 25, 32]\n",
        "rlst = ['홍길동님', '전우치님', 26, 33]\n",
        "```"
      ],
      "metadata": {
        "id": "fTi3nA4k7gVH"
      }
    },
    {
      "cell_type": "code",
      "source": [
        "lst = ['홍길동', '전우치', 25, 32]\n",
        "\n",
        "rlst = []\n",
        "\n",
        "for item in lst:\n",
        "  #print(item, type(item), type(item) is str, type(item) is int)\n",
        "\n",
        "  if type(item) is int:\n",
        "    rlst.append(item + 1)\n",
        "  elif type(item) is str:          # 왜 안될까요? del str\n",
        "  #else:\n",
        "    rlst.append(item + '님')\n",
        "\n",
        "print(rlst)"
      ],
      "metadata": {
        "colab": {
          "base_uri": "https://localhost:8080/"
        },
        "id": "zmEr_8iw-nnW",
        "outputId": "b2321e80-9112-41ca-82bc-ea123f0ddcd7"
      },
      "execution_count": 264,
      "outputs": [
        {
          "output_type": "stream",
          "name": "stdout",
          "text": [
            "['홍길동님', '전우치님', 26, 33]\n"
          ]
        }
      ]
    },
    {
      "cell_type": "markdown",
      "source": [
        "## 문제 10\n",
        "친구에게 주고 싶어서 과일 가게에서 몇 가지 샀습니다. '사과', '수박', '참외', '딸기'를 샀습니다. 검은 포장지로 싸서 무엇을 샀는지 친구가 보고 알수없습니다. 친구에게 \"여기에 들어 있는 것을 맞춰보라고 할 생각입니다\"\n",
        "\n",
        "```python\n",
        "lst = ['사과', '수박', '참외', '딸기']\n",
        "\n",
        "name = input('오다가 과일 가게에서 몇 가지 샀어.\\n여기에 무엇이 들어있을까? : ')\n",
        "\n",
        "if (친구가 입력한 것이 구입한 목록에 있다):\n",
        "  print(\"어떻게 알았지? ㅎㅎㅎ\")\n",
        "else: # 친구가 맞추지 못하면\n",
        "  print(lst)\n",
        "```\n",
        "\n",
        "위 코드가 실행될 수 있도록 적절히 **한 줄만** 수정하세요."
      ],
      "metadata": {
        "id": "U9_Nkj8w_l8m"
      }
    },
    {
      "cell_type": "code",
      "source": [
        "lst = ['사과', '수박', '참외', '딸기']\n",
        "\n",
        "name = input('오다가 과일 가게에서 몇 가지 샀어.\\n여기에 무엇이 들어있을까? : ')\n",
        "\n",
        "if (name in lst):\n",
        "  print(\"어떻게 알았지? ㅎㅎㅎ\")\n",
        "else: # 친구가 맞추지 못하면\n",
        "  print(lst)"
      ],
      "metadata": {
        "colab": {
          "base_uri": "https://localhost:8080/"
        },
        "id": "PUQPDChWRBqr",
        "outputId": "4050ee9a-24c0-4c6d-d939-e74959f13d4f"
      },
      "execution_count": 112,
      "outputs": [
        {
          "output_type": "stream",
          "name": "stdout",
          "text": [
            "오다가 과일 가게에서 몇 가지 샀어.\n",
            "여기에 무엇이 들어있을까? : 메론\n",
            "['사과', '수박', '참외', '딸기']\n"
          ]
        }
      ]
    },
    {
      "cell_type": "markdown",
      "source": [
        "##문제 11\n",
        "아래 코드에 보인 `lst`의 모든 요소를 다음과 같이 출력하는 코드를 작성하시오.\n",
        "\n",
        "```python\n",
        "lst = [ [1, 2, 3], [ 4, 5, 6] ]\n",
        "```\n",
        "\n",
        "출력 결과  \n",
        "\n",
        "<center>\n",
        "\n",
        "![image.png](data:image/png;base64,iVBORw0KGgoAAAANSUhEUgAAAScAAAAVCAYAAAAEnyhTAAAAAXNSR0IArs4c6QAAAARnQU1BAACxjwv8YQUAAAAJcEhZcwAADsMAAA7DAcdvqGQAAAESSURBVHhe7dzRCsIwDIXh6qP0/Z+pr6ILLhBGK71MT/4Pikzw4ixZNov4+lwaACTzvl8BIBWGE4CUGE4AUmI4AUjp74Z4772NMe4jLZYtUsupni9S69Nn7Zxyxlm25XDyDys29ayZlRpcPV+k2KeqtXK7/bn8Wqd8cgDkMps3Jfec1AdvlRuL+hNGdWyIX1Sb3HL54iI+S6ydLTU7+coPJzsxqheu5fK1aoBTKdfNxNop1m8nX+nhpN7gOBM9+VN2ODGYzkXtaig5nNSbe/aIrMYy+vJjFRXqt4MNcRzHbixx+XvQUvIX4qs7k1LWZ0bli1exT9Xrt5OP/3MCkBJf6wCkxHACkBLDCUBKDCcACbX2BcW8rEZcL8fmAAAAAElFTkSuQmCC)\n",
        "\n",
        "</center>"
      ],
      "metadata": {
        "id": "uMBrcIr5BfI4"
      }
    },
    {
      "cell_type": "code",
      "source": [
        "lst = [ [1, 2, 3], [ 4, 5, 6] ]\n",
        "\n",
        "for i in lst:\n",
        "    for j in i:\n",
        "        print(j, end=\"\\t\")"
      ],
      "metadata": {
        "colab": {
          "base_uri": "https://localhost:8080/"
        },
        "id": "6hf4s689RUhl",
        "outputId": "6fbee476-9939-4816-b4d0-772a172f395e"
      },
      "execution_count": 122,
      "outputs": [
        {
          "output_type": "stream",
          "name": "stdout",
          "text": [
            "1\t2\t3\t4\t5\t6\t"
          ]
        }
      ]
    },
    {
      "cell_type": "markdown",
      "source": [
        "##문제 12\n",
        "아래 보인 리스트, `dan`을 활용하여 출력 결과가 아래와 같이 나오도록 코드를 작성하시오.\n",
        "```python\n",
        "dan = list(range(2, 9))\n",
        "```\n",
        "출력 결과   \n",
        "<center>\n",
        "\n",
        "![image.png](data:image/png;base64,iVBORw0KGgoAAAANSUhEUgAAA1gAAAAWCAYAAADdJT0pAAAAAXNSR0IArs4c6QAAAARnQU1BAACxjwv8YQUAAAAJcEhZcwAADsMAAA7DAcdvqGQAAAO8SURBVHhe7d0BbtswDIXhbjdp73+mXGWdkBBQFLYWJYsymf8DjGWBZJl8ThZhRfrn338fAAAAAIBpfx9/AgAAAAAmscECAAAAgJOwwQIAAACAk7DBAgAAAICTvHzJxdfX1+PR3e12ezxap6zpsU6xoz5P5JeHV18986vtWneV9t4Uq2v0vE80mTP06qtXD3fU52XX/emV3676PO24P73yK3bU54n8nj1tsLQLXX3xcsG7glhdnyfyy8Orr5751Xatu9KOe9Gzjzvq86TVt7rm3fm9Y6Zn8sxPkym/HfenZ3476vNEfq+2/4igR2OwDvnFRn6xkd9aq/u7O7/M98/qD3fFzv551Jcd/Yvt6vk9bbBGL1Z2kTXtud2yv5jILwfrP5xR8hPW+rKLlh+ekV9s5Bcb+cWWOb9ff9FwKbL3g1A91jKvGBmvsX5os64bRd2f3vrqXozkYR2vsVyrsKwbhfTT0td6rGVeMTJeY71W67pXp/XF2pP2cY+R8Zqjc8zUF8FMfXUGI3lYx2uOzjFTXzQzGczM7aHlUKxcMwKtpt4663HW3oyM1xydQ1vHuvaVzdRXj7P2ZGS85ugc2jqHa5cNlubz8/PxqE89fmaulx1r7tBbZ7T8RLYcR3MYnVd49nDmOq9Oq6e3xpm+ePVxpr4IZuqrx1l74tXDmfqimclgZq6XzLnVR696rGVeYR0/Q+qSIxOtnt4a63HWvnj1caQ+9X+wrDtCITtD61zrerJOq/cco/VFZKk1Sn61bFnW9Yz21dqP0XVaPeeYqS8iS43SV2tPrH2UdVojWWTKUKvFUp/01doPaw9lndbROWbri2SkLunryDzLHFmnZT1Htty0mix1Sl+tfbH2UtZpHZ1jtr4ItN701idzrf2w9lC7xqLnHNb6Xr7kwnqxO5Tr044eEerLrs1NjncX5d5sc5PjCK+9a2hzkwMxaNmVA3dXf59pc5OjF++je7W5yYHX3lxRe41y9LDOedpgzbxwZW45yuMryv7GNNP3KPllV2qUQ/7eo4y7en6F1CbXeOVrtZqppczl9RdXhPzwM/KLjfxiy5rf9q9pB3AnbzByyHNZZK8PAIB3lH1jO1Lfyy8a1hx9CJLdZ0177ieWsTNG64ukrbGntij5FSP1RdXb10j51Xatu1KpqZYtv5H6IiG/+Kz9jJRf4b2ep1JbrafOSPmN1BcJ+T379WvaAQAAAAD9+BFBAAAAADgJGywAAAAAOAkbLAAAAAA4CRssAAAAADgJGywAAAAAOMXHxzdF5WUw56ypLwAAAABJRU5ErkJggg==)\n",
        "\n",
        "</center>"
      ],
      "metadata": {
        "id": "dhm0VXzARtXf"
      }
    },
    {
      "cell_type": "code",
      "source": [
        "dan = list(range(2, 9))\n",
        "dan.append(9)\n",
        "\n",
        "for j in range(1, 2):\n",
        "    for i in dan:\n",
        "        print(f'{i} * {j} = {i * j}' , end=\"\\t\")\n",
        "    print()"
      ],
      "metadata": {
        "colab": {
          "base_uri": "https://localhost:8080/"
        },
        "id": "vQ2S-8unR5WY",
        "outputId": "ddfd8085-0ab6-4fe2-fe44-48cad08eb9bb"
      },
      "execution_count": 134,
      "outputs": [
        {
          "output_type": "stream",
          "name": "stdout",
          "text": [
            "2 * 1 = 2\t3 * 1 = 3\t4 * 1 = 4\t5 * 1 = 5\t6 * 1 = 6\t7 * 1 = 7\t8 * 1 = 8\t9 * 1 = 9\t\n"
          ]
        }
      ]
    },
    {
      "cell_type": "markdown",
      "source": [
        "##문제 13\n",
        "아래 보인 리스트, `dan`을 활용하여 출력 결과가 아래와 같이 나오도록 코드를 작성하시오.\n",
        "```python\n",
        "dan = list(range(2, 9))\n",
        "```\n",
        "출력 결과   \n",
        "<center>\n",
        "\n",
        "![image.png](data:image/png;base64,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)\n",
        "\n",
        "</center>\n",
        "\n"
      ],
      "metadata": {
        "id": "PBixGmGlTFnj"
      }
    },
    {
      "cell_type": "code",
      "source": [
        "dan = list(range(2, 9))\n",
        "dan.append(9)\n",
        "\n",
        "for j in range(1, 3):\n",
        "    for i in dan:\n",
        "        print(f'{i} * {j} = {i * j}' , end=\"\\t\")\n",
        "    print()"
      ],
      "metadata": {
        "colab": {
          "base_uri": "https://localhost:8080/"
        },
        "id": "A69QdgGGTWGv",
        "outputId": "4ff1f0d0-f8c7-4f1e-b6c4-a076238e348b"
      },
      "execution_count": 135,
      "outputs": [
        {
          "output_type": "stream",
          "name": "stdout",
          "text": [
            "2 * 1 = 2\t3 * 1 = 3\t4 * 1 = 4\t5 * 1 = 5\t6 * 1 = 6\t7 * 1 = 7\t8 * 1 = 8\t9 * 1 = 9\t\n",
            "2 * 2 = 4\t3 * 2 = 6\t4 * 2 = 8\t5 * 2 = 10\t6 * 2 = 12\t7 * 2 = 14\t8 * 2 = 16\t9 * 2 = 18\t\n"
          ]
        }
      ]
    },
    {
      "cell_type": "markdown",
      "source": [
        "##문제 14\n",
        "아래 보인 리스트, `lst`의 모든 요소가 리스트입니다. 모든 요소가 출력되도록 하는 코드를 작성하시오.\n",
        "```python\n",
        "lst = [ [1, 2, '해운대'], [3, 4, 5, 6], ['구숙정', '장만옥'] ]\n",
        "```\n",
        "출력 결과  \n",
        "<center>\n",
        "\n",
        "![image.png](data:image/png;base64,iVBORw0KGgoAAAANSUhEUgAAAfAAAAATCAYAAABvC19+AAAAAXNSR0IArs4c6QAAAARnQU1BAACxjwv8YQUAAAAJcEhZcwAADsMAAA7DAcdvqGQAAAK5SURBVHhe7dwBboMwDAVQtpu09z9Tr7LNWj15lk1MSAJx/pOiQRtibEKY0LSPrx8bAAAATAUP8MU8n8/t9Xr9/dTo8z3WMR4Zw4sHAHMprREkeq9H1oW9eD3Wl5p4kWOId557xxMvN/cB7gXKQBcrY54yR2sCWdc3cs294yT+XvaNjB3lxcuoZd3uQF87ljnHzPPTE523R+e31//oOFHReGf6ecdKXp/P989/qHNWXAjZMuYr8+vJqmdPq1w/kjUvff2oZbHS/DyDasK14u2S0XUcHa+G+QCnosKc+GawGgCMh/X0l1yL+Jcbwtvyew/3I5H+Z8l4WqvYOnerUR+L+QDPzCtEFpSf10qojzV5ZIuM09PV8Ue5Q60BWqL5zM2y9711P+z1Pyty/9XG5rVU4rHkmHrfstwDXMu6UPIk0ROlRE4aqx1Vcw4RMr+a84LryGtHLZvs+ZVQzi3vST0ebfesa+94NJ4c/4wl/4iNZc1R5yX35URskfteDXXcFvEsPce+wqi6XcHKJ1OOK+R3BOd95jivdvK7VjWujUf7Ht0vepxFn9uyD/DM+VmThPd52+pzhB7PYsXtoefYVxhVt7vIlKOVC66hr1VtRtf46nzZkq/QR1/sGVA9rOZ9B31gbgIcN/qeucs9utwDHAukj2pzdzOc41mUIzfez2KF6wc2Oa+56c89so/VWrNiyGbxPi/RY1vNRa/QLY/H472VS9a8JJ2j3Odtqw41tdk7xop7VqvznkW23LJfv9XmJ2uVY239Wta4Nl7Lc9C8sZd9hR7+DWdC9IZB5tbzjYOOxa0XKx7eqMwj+/XD/ISR8L/QF8MLirew0Ocl0QVJxsBCBpBXq/u7dl1qvbbUxisdR2rO1asLHuAAAAATWv4fuQAAAMwID3AAAIAJ4QEOAAAwITzAAQAAprNt30CNDPK3g16HAAAAAElFTkSuQmCC)\n",
        "\n",
        "</center>\n",
        "\n"
      ],
      "metadata": {
        "id": "1UKJfNQCVogj"
      }
    },
    {
      "cell_type": "code",
      "source": [
        "lst = [ [1, 2, '해운대'], [3, 4, 5, 6], ['구숙정', '장만옥'] ]\n",
        "\n",
        "for row in lst:\n",
        "    for text in row:\n",
        "        print(text, end=\"\\t\")"
      ],
      "metadata": {
        "colab": {
          "base_uri": "https://localhost:8080/"
        },
        "id": "M48r4mbvToTX",
        "outputId": "1a4159c8-bd58-4ed0-8a48-5817f0b5f4af"
      },
      "execution_count": 138,
      "outputs": [
        {
          "output_type": "stream",
          "name": "stdout",
          "text": [
            "1\t2\t해운대\t3\t4\t5\t6\t구숙정\t장만옥\t"
          ]
        }
      ]
    },
    {
      "cell_type": "markdown",
      "source": [
        "##문제 15\n",
        "아래 보인 리스트, `lst`의 모든 요소가 리스트입니다. `lst`의 요소(리스트)의 요소를 요소로 하는 새로운 리스트, `nlist`를 생성하는 코드를 작성하세요.\n",
        "```python\n",
        "lst = [ [1, 2, '해운대'], [3, 4, 5, 6], ['구숙정', '장만옥'], ['\\n', '\\t'] ]\n",
        "```\n",
        "\n",
        "\n",
        "```python\n",
        "rlst = [1, 2, '해운대', 3, 4, 5, 6, '구숙정', '장만옥', '\\n', '\\t' ]\n",
        "```\n"
      ],
      "metadata": {
        "id": "ksH3_FmqWYMT"
      }
    },
    {
      "cell_type": "code",
      "source": [
        "lst = [ [1, 2, '해운대'], [3, 4, 5, 6], ['구숙정', '장만옥'], ['\\n', '\\t'] ]\n",
        "\n",
        "rlist = []\n",
        "\n",
        "for row in lst:\n",
        "    for text in row:\n",
        "        rlist.append(text)\n",
        "\n",
        "print(rlist)"
      ],
      "metadata": {
        "colab": {
          "base_uri": "https://localhost:8080/"
        },
        "id": "LBy3tiLeUA0g",
        "outputId": "278f87d9-500b-4d06-b178-14e97f12fcd6"
      },
      "execution_count": 140,
      "outputs": [
        {
          "output_type": "stream",
          "name": "stdout",
          "text": [
            "[1, 2, '해운대', 3, 4, 5, 6, '구숙정', '장만옥', '\\n', '\\t']\n"
          ]
        }
      ]
    },
    {
      "cell_type": "markdown",
      "source": [
        "## 문제 16\n",
        "다음 코드에는 리스트, `a_lst`, `b_lst`, `c_lst`가 있습니다.\n",
        "\n",
        "```python\n",
        "a_lst = [1, 2, 3]\n",
        "b_lst = ['boy', 'good', 3.1415]\n",
        "c_list = [ a_lst, ['역삼역', '우영우']]\n",
        "```\n",
        "세 리스트, `a_lst`, `b_lst`, `c_lst`의 각 요소를 요소로 하는 새로운 리스트, `nlst` 를 생성하는 코드를 작성하세요.\n",
        "\n",
        "```python\n",
        "nlst = [ 1, 2, 3, 'boy', 'good', 3.1415, [1, 2, 3], ['역삼역', '우영우'] ]\n",
        "```\n"
      ],
      "metadata": {
        "id": "qhnRLw0bYarK"
      }
    },
    {
      "cell_type": "code",
      "source": [
        "a_lst = [1, 2, 3]\n",
        "b_lst = ['boy', 'good', 3.1415]\n",
        "c_list = [ a_lst, ['역삼역', '우영우']]\n",
        "\n",
        "n_list = a_lst + b_lst + c_list\n",
        "\n",
        "print(n_list)"
      ],
      "metadata": {
        "colab": {
          "base_uri": "https://localhost:8080/"
        },
        "id": "9j7UpgMfUP8v",
        "outputId": "df602976-3638-4e28-bf27-b5d815158225"
      },
      "execution_count": 143,
      "outputs": [
        {
          "output_type": "stream",
          "name": "stdout",
          "text": [
            "[1, 2, 3, 'boy', 'good', 3.1415, [1, 2, 3], ['역삼역', '우영우']]\n"
          ]
        }
      ]
    },
    {
      "cell_type": "markdown",
      "source": [
        "##문제 17\n",
        "\n",
        "주어진 리스트, `a`를 이용하여 다음과 같은 새로운 리스트, `nlst`를 생성하는 코드를 작성하시오.\n",
        "```python\n",
        "a = [1, 2, 3]\n",
        "```\n",
        "\n",
        "```python\n",
        "nlst = [1, 2, 3, 1, 2, 3, 1, 2, 3, 1, 2, 3, 1, 2, 3, 1, 2, 3, 1, 2, 3, 1, 2, 3,1, 2, 3]\n",
        "```\n",
        "`nlst`는 `a`의 요소들로 9번 반복해서 나타나는 형태입니다."
      ],
      "metadata": {
        "id": "Pdimw41_Z2Br"
      }
    },
    {
      "cell_type": "code",
      "source": [
        "a = [1, 2, 3]\n",
        "\n",
        "nlst = a * 9\n",
        "\n",
        "print(nlst)"
      ],
      "metadata": {
        "colab": {
          "base_uri": "https://localhost:8080/"
        },
        "id": "pqpKJaNpUjL-",
        "outputId": "76c892ce-55fa-4932-8aad-35bada837d1a"
      },
      "execution_count": 144,
      "outputs": [
        {
          "output_type": "stream",
          "name": "stdout",
          "text": [
            "[1, 2, 3, 1, 2, 3, 1, 2, 3, 1, 2, 3, 1, 2, 3, 1, 2, 3, 1, 2, 3, 1, 2, 3, 1, 2, 3]\n"
          ]
        }
      ]
    },
    {
      "cell_type": "markdown",
      "source": [
        "##문제 18\n",
        "아래 코드에 보이는 리스트, `prices`는 달러로 표시되어 있습니다.리스트 `prices`의 금액을 다 더하면 몇 달러인지와 원화로 환산하면 얼마인지 출력하는 코드를 작성하세요. (2023년 5월 28일 기준 1달러는 1,328원입니다.)\n",
        "\n",
        "```python\n",
        "prices = ['2,000$', '3,000$', '5,000$']\n",
        "exchange_rate = 1328\n",
        "```"
      ],
      "metadata": {
        "id": "LzuQ_NiBeSGL"
      }
    },
    {
      "cell_type": "code",
      "source": [
        "prices = ['2,000$', '3,000$', '5,000$']\n",
        "exchange_rate = 1328\n",
        "\n",
        "sum_prices = 0\n",
        "for price in prices:\n",
        "    sum_prices += int(price.rstrip('$').replace(',', ''))\n",
        "\n",
        "print('달러 합계는 {:0,.0f}  $ 입니다.'.format(sum_prices))\n",
        "print('원화 환산은 {:0,.0f} 원 입니다.'.format(sum_prices * exchange_rate))"
      ],
      "metadata": {
        "colab": {
          "base_uri": "https://localhost:8080/"
        },
        "id": "81FzfsUEU-PL",
        "outputId": "74bde57c-56aa-44e8-da99-83579d9d911b"
      },
      "execution_count": 183,
      "outputs": [
        {
          "output_type": "stream",
          "name": "stdout",
          "text": [
            "달러 합계는 10,000  $ 입니다.\n",
            "원화 환산은 13,280,000 원 입니다.\n"
          ]
        }
      ]
    },
    {
      "cell_type": "markdown",
      "source": [
        "## 문제 19\n",
        "아래와 같이 딕셔너리 형 데이터, `person`에서 이름(`name`)과 나이(`age`)의 값을 출력하는 코드를 작성하시오.\n",
        "\n",
        "```python\n",
        "person = {\n",
        "    'name':'손홍민',\n",
        "    'address': '경기도 화성시 동탄',\n",
        "    'age': 20,\n",
        "}\n",
        "```"
      ],
      "metadata": {
        "id": "Vep0NfgNhjSS"
      }
    },
    {
      "cell_type": "code",
      "source": [
        "person = {\n",
        "    'name':'손홍민',\n",
        "    'address': '경기도 화성시 동탄',\n",
        "    'age': 20,\n",
        "}\n",
        "\n",
        "print(f\"이름: {person['name']}\")\n",
        "print(f\"나이: {person['age']}\")"
      ],
      "metadata": {
        "colab": {
          "base_uri": "https://localhost:8080/"
        },
        "id": "R5gAV3U6Yxey",
        "outputId": "73cb7f6b-aed3-46bf-9453-406dd75fae62"
      },
      "execution_count": 181,
      "outputs": [
        {
          "output_type": "stream",
          "name": "stdout",
          "text": [
            "이름: 손홍민\n",
            "나이: 20\n"
          ]
        }
      ]
    },
    {
      "cell_type": "markdown",
      "source": [
        "## 문제 20\n",
        "아래 코드에 보인 딕셔너리 형, `person`의 모든 Key에 대한 값을 출력하는 코드를 작성하시오.\n",
        "\n",
        "```python\n",
        "person = {\n",
        "    'name':'전우치',\n",
        "    'address': '경기도 화성시 동탄',\n",
        "    'age': 27,\n",
        "    'car': ['sedan', 'suv']\n",
        "}\n",
        "```\n",
        "\n",
        "```python\n",
        "# 아래와 같이 코딩하자는 의도가 아닙니다. ^^\n",
        "print(person['name'], person['address'], person['age'], person['car'])\n",
        "```\n"
      ],
      "metadata": {
        "id": "YV4Su821jGFU"
      }
    },
    {
      "cell_type": "code",
      "source": [
        "person = {\n",
        "    'name':'전우치',\n",
        "    'address': '경기도 화성시 동탄',\n",
        "    'age': 27,\n",
        "    'car': ['sedan', 'suv']\n",
        "}\n",
        "\n",
        "for key in person:\n",
        "    print(person[key])"
      ],
      "metadata": {
        "colab": {
          "base_uri": "https://localhost:8080/"
        },
        "id": "CVl4j7BKZNAx",
        "outputId": "383daacb-251f-4902-96e4-b1dc079025c4"
      },
      "execution_count": 185,
      "outputs": [
        {
          "output_type": "stream",
          "name": "stdout",
          "text": [
            "전우치\n",
            "경기도 화성시 동탄\n",
            "27\n",
            "['sedan', 'suv']\n"
          ]
        }
      ]
    },
    {
      "cell_type": "markdown",
      "source": [
        "##문제 21\n",
        "아래와 같이 파이썬 딕셔너리 형, `my_dic`를 생성했습니다.\n",
        "\n",
        "```python\n",
        "my_dic = {\n",
        "    'boy': ['소년', '남자 아이', '(어린)아들'],\n",
        "    'girl': ['소녀', '여자 아이', '딸'],\n",
        "    'computer': {\n",
        "        'cpu': '중앙처리장치',\n",
        "        'memory':'기억장치'\n",
        "    },\n",
        "    0:'영',\n",
        "    1:'하나',\n",
        "    2:'둘',   \n",
        "}\n",
        "```\n",
        "아래 코드를 한 줄만 수정해서 새로운 요소(항목)을 추가하고 싶습니다. 추가하고 싶은 요소의 키(key)는 `'good'`이며 값(value)는 `'좋아 좋아'`입니다.\n",
        "\n",
        "```python\n",
        "my_dic[] =\n",
        "\n",
        "for key, value in my_dic.items():\n",
        "  print(key, value)\n",
        "```"
      ],
      "metadata": {
        "id": "S_Wg9XGzkZw1"
      }
    },
    {
      "cell_type": "code",
      "source": [
        "my_dic = {\n",
        "    'boy': ['소년', '남자 아이', '(어린)아들'],\n",
        "    'girl': ['소녀', '여자 아이', '딸'],\n",
        "    'computer': {\n",
        "        'cpu': '중앙처리장치',\n",
        "        'memory':'기억장치'\n",
        "    },\n",
        "    0:'영',\n",
        "    1:'하나',\n",
        "    2:'둘',\n",
        "}\n",
        "\n",
        "my_dic['good'] = '좋아좋아'\n",
        "\n",
        "for key, value in my_dic.items():\n",
        "  print(key, value)"
      ],
      "metadata": {
        "colab": {
          "base_uri": "https://localhost:8080/"
        },
        "id": "HASwkX8dZmEg",
        "outputId": "c3430b6a-7b60-49d7-d301-b91d5c3c889d"
      },
      "execution_count": 186,
      "outputs": [
        {
          "output_type": "stream",
          "name": "stdout",
          "text": [
            "boy ['소년', '남자 아이', '(어린)아들']\n",
            "girl ['소녀', '여자 아이', '딸']\n",
            "computer {'cpu': '중앙처리장치', 'memory': '기억장치'}\n",
            "0 영\n",
            "1 하나\n",
            "2 둘\n",
            "good 좋아좋아\n"
          ]
        }
      ]
    },
    {
      "cell_type": "markdown",
      "source": [
        "## 문제 22\n",
        "아래와 같이 파이썬 딕셔너리 형, `my_dic`를 생성했습니다.\n",
        "```python\n",
        "my_dic = {\n",
        "    'boy': ['소년', '남자 아이', '(어린)아들'],\n",
        "    'girl': ['소녀', '여자 아이', '딸'],\n",
        "    'computer': {\n",
        "        'cpu': '중앙처리장치',\n",
        "        'memory':'기억장치'\n",
        "    },\n",
        "}\n",
        "```\n",
        "\n",
        "키(key), `'boy'`의 값(value)은 리스트 형 데이터입니다. 키, `'boy'`에 해당하는 값(value)에 요소를 추가하고 싶습니다. `'boy'`에 대한 값이 `['소년', '남자 아이', '(어린)아들', '(어디 출신) 사람']`이 되도록 코드를 작성하세요."
      ],
      "metadata": {
        "id": "M_XSDSM1mf27"
      }
    },
    {
      "cell_type": "code",
      "source": [
        "my_dic = {\n",
        "    'boy': ['소년', '남자 아이', '(어린)아들'],\n",
        "    'girl': ['소녀', '여자 아이', '딸'],\n",
        "    'computer': {\n",
        "        'cpu': '중앙처리장치',\n",
        "        'memory':'기억장치'\n",
        "    },\n",
        "}\n",
        "\n",
        "my_dic['boy'].append('(어디 출신) 사람')\n",
        "\n",
        "print(my_dic['boy'])"
      ],
      "metadata": {
        "colab": {
          "base_uri": "https://localhost:8080/"
        },
        "id": "uqVtFnSWZzpD",
        "outputId": "3f7fd683-50b1-4408-8452-5b4378d9c0b9"
      },
      "execution_count": 190,
      "outputs": [
        {
          "output_type": "stream",
          "name": "stdout",
          "text": [
            "['소년', '남자 아이', '(어린)아들', '(어디 출신) 사람']\n"
          ]
        }
      ]
    },
    {
      "cell_type": "markdown",
      "source": [
        "## 문제 23\n",
        "아래와 같이 파이썬 딕셔너리 형, `my_dic`를 생성했습니다.\n",
        "```python\n",
        "my_dic = {\n",
        "    'boy': ['소년', '남자 아이', '(어린)아들'],\n",
        "    'girl': ['소녀', '여자 아이', '딸'],\n",
        "    'computer': {\n",
        "        'cpu': '중앙처리장치',\n",
        "        'memory':'기억장치'\n",
        "    },\n",
        "}\n",
        "```\n",
        "\n",
        "키(key), `'boy'`의 값(value)은 리스트 형 데이터입니다. 키, `'boy'`에 해당하는 값(value)에 요소를 추가하고 싶습니다. `'boy'`에 대한 값이 `['소년', '남자 아이', '(어디 출신) 사람','(어린)아들']`이 되도록 코드를 작성하세요."
      ],
      "metadata": {
        "id": "cXPRrZp3fkY6"
      }
    },
    {
      "cell_type": "code",
      "source": [
        "my_dic = {\n",
        "    'boy': ['소년', '남자 아이', '(어린)아들'],\n",
        "    'girl': ['소녀', '여자 아이', '딸'],\n",
        "    'computer': {\n",
        "        'cpu': '중앙처리장치',\n",
        "        'memory':'기억장치'\n",
        "    },\n",
        "}\n",
        "\n",
        "my_dic['boy'].insert(2, '(어디 출신) 사람')\n",
        "\n",
        "print(my_dic['boy'])"
      ],
      "metadata": {
        "colab": {
          "base_uri": "https://localhost:8080/"
        },
        "id": "oiCMu-Jlat10",
        "outputId": "51c24c07-7d61-462e-a568-6eaab50557cd"
      },
      "execution_count": 189,
      "outputs": [
        {
          "output_type": "stream",
          "name": "stdout",
          "text": [
            "['소년', '남자 아이', '(어디 출신) 사람', '(어린)아들']\n"
          ]
        }
      ]
    },
    {
      "cell_type": "markdown",
      "source": [
        "##문제 24\n",
        "\n",
        "아래와 같이 파이썬 딕셔너리 형, `my_dic`를 생성했습니다. 그리고 아래 코드를 실행했을 때 다음과 같은 출력이 나오도록 코드를 완성하십시오. 주석 `#여기에 한 줄 코드` 위치에 한 줄로 코드를 작성하세요.\n",
        "\n",
        "```python\n",
        "my_dic = {\n",
        "    'boy': ['소년', '남자 아이', '(어린)아들'],\n",
        "    'girl': ['소녀', '여자 아이', '딸'],\n",
        "    'microcontroller': {\n",
        "        'cpu': '중앙처리장치',\n",
        "        'memory':'기억장치',\n",
        "        'peripheral':['adc', 'uart', 'pwm'],\n",
        "    },\n",
        "}\n",
        "\n",
        "# 여기에 한 줄 코드\n",
        "\n",
        "print(my_dic['microcontroller']['peripheral'])\n",
        "```\n",
        "\n",
        "출력\n",
        "<center>\n",
        "\n",
        "![image.png](data:image/png;base64,iVBORw0KGgoAAAANSUhEUgAAAM0AAAAaCAYAAAAUh9j+AAAAAXNSR0IArs4c6QAAAARnQU1BAACxjwv8YQUAAAAJcEhZcwAADsMAAA7DAcdvqGQAAAHISURBVHhe7dwBboMwDAVQtpvA/c/EVbZZwtKf64QYginpf1LUkKTgQEw7Nu3r589ERM2+t1ciasSkIQpi0hAFMWmIgpg0REFMGqIgJg1R0MvvaZZl2WrTtK7rViP6LLU8cD9pZJCXMLijoyL76HE864p9HjXC/LLnUOqTdiwR3vhSDgh+PbtQ9OLRMXKedZFrufLcM2noUUp3/0yhpCkFLFmtxdPS5/VfcYK8fXrHxrZajNpm+0vtKHt+XizYh68Cx2M7ypqD8uJoiUHncvT9/8iDADTP81ZrY8fXtqVut5HdzuIdV9v2YpRt7/2i1J7NxujV7auo9d2lJQY7Zm+7xht7+uvZ3l0B+7Fu+0Q44xO0xPSOcVsYo9S9O+4I7Lq6Yp11+ZlGAtMyotHnNwq5PmcTosXppNFAtYxm9PmNIithBJ+efThZaLrgMhdeT9lxd00aCR7phVBYt33CbtdExkaV9n3lMa3ex8L9ST1jkWWer5Kz68zT5UGABIEXAoPy+hX2ef1ZanFgn7ZLvQW+927ePEaic8OicO5Szs7/kX971mPi76z3/O44X0+/RrU84D/WIArigwCiICYNURCThiiISUMUMk2/tM/W+gAcH0YAAAAASUVORK5CYII=)\n",
        "\n",
        "</center>\n"
      ],
      "metadata": {
        "id": "RsAMtzruoBXS"
      }
    },
    {
      "cell_type": "code",
      "source": [
        "my_dic = {\n",
        "    'boy': ['소년', '남자 아이', '(어린)아들'],\n",
        "    'girl': ['소녀', '여자 아이', '딸'],\n",
        "    'microcontroller': {\n",
        "        'cpu': '중앙처리장치',\n",
        "        'memory':'기억장치',\n",
        "        'peripheral':['adc', 'uart', 'pwm'],\n",
        "    },\n",
        "}\n",
        "\n",
        "# 여기에 한 줄 코드\n",
        "my_dic['microcontroller']['peripheral'].append(\"l2c\")\n",
        "\n",
        "print(my_dic['microcontroller']['peripheral'])"
      ],
      "metadata": {
        "colab": {
          "base_uri": "https://localhost:8080/"
        },
        "id": "q-Ngw-4lbOgJ",
        "outputId": "0cb62087-c62a-41f0-c41a-454db6394679"
      },
      "execution_count": 191,
      "outputs": [
        {
          "output_type": "stream",
          "name": "stdout",
          "text": [
            "['adc', 'uart', 'pwm', 'l2c']\n"
          ]
        }
      ]
    },
    {
      "cell_type": "markdown",
      "source": [
        "## 문제 25\n",
        "\n",
        "1부터 N까지의 양의 정수를 더하는데 그 합이 1000이상에 도달했을 때의 N은 얼마인지 구하는 코드를 작성하되 `while`문을 사용하세요."
      ],
      "metadata": {
        "id": "TM8FRkMJrGdB"
      }
    },
    {
      "cell_type": "code",
      "source": [
        "sum = 0\n",
        "idx = 1\n",
        "\n",
        "while(sum < 1000):\n",
        "    sum += idx\n",
        "    idx += 1\n",
        "\n",
        "print(sum)\n"
      ],
      "metadata": {
        "colab": {
          "base_uri": "https://localhost:8080/"
        },
        "id": "850U0-6jberW",
        "outputId": "e2834d5a-d885-4ec2-bbba-478e2e4ce4d3"
      },
      "execution_count": 201,
      "outputs": [
        {
          "output_type": "stream",
          "name": "stdout",
          "text": [
            "1035\n"
          ]
        }
      ]
    },
    {
      "cell_type": "markdown",
      "source": [
        "##문제 26\n",
        "다음과 같이 리스트, `lst`를 생성하였습니다. `lst`의 요소에서 `1`을 모두 제거하는 코드를 작성하세요.\n",
        "\n",
        "```python\n",
        "import random\n",
        "\n",
        "lst = []\n",
        "lst += random.sample([1, 2, 3], 2)\n",
        "lst += random.sample([1, 2, 3], 2)\n",
        "lst += random.sample([1, 2, 3], 2)\n",
        "lst += random.sample([1, 2, 3], 2)\n",
        "```"
      ],
      "metadata": {
        "id": "cLl9ifdNk-Mo"
      }
    },
    {
      "cell_type": "code",
      "source": [
        "import random\n",
        "\n",
        "lst = []\n",
        "lst += random.sample([1, 2, 3], 2)\n",
        "lst += random.sample([1, 2, 3], 2)\n",
        "lst += random.sample([1, 2, 3], 2)\n",
        "lst += random.sample([1, 2, 3], 2)\n",
        "\n",
        "while(1 in lst):\n",
        "    lst.remove(1)\n",
        "\n",
        "print(lst)"
      ],
      "metadata": {
        "colab": {
          "base_uri": "https://localhost:8080/"
        },
        "id": "wudRhiTmcnK6",
        "outputId": "c7629a12-b78d-4f5f-a0f9-a75e030a74dd"
      },
      "execution_count": 218,
      "outputs": [
        {
          "output_type": "stream",
          "name": "stdout",
          "text": [
            "[2, 2, 3, 2, 3]\n"
          ]
        }
      ]
    },
    {
      "cell_type": "markdown",
      "source": [
        "##문제 27\n",
        "아래 코드에 보인 리스트 `banks`의 요소에서 '기업은행'을 모두 삭제하는 코드를 작성하세요.\n",
        "\n",
        "```python\n",
        "import random\n",
        "\n",
        "lst = []\n",
        "lst += random.sample([0, 1, 2, 3], 2)\n",
        "lst += random.sample([0, 1, 2, 3], 2)\n",
        "lst += random.sample([0, 1, 2, 3], 2)\n",
        "lst += random.sample([0, 1, 2, 3], 2)\n",
        "\n",
        "\n",
        "lst_bank = ['기업은행', '제일은행', '우리은행', '국민은행']\n",
        "\n",
        "banks=[]\n",
        "\n",
        "for idx in lst:                # lst = [0, 1, 0, 3, 2, 3, 1, 2]\n",
        "  banks.append(lst_bank[idx])\n",
        "\n",
        "print(banks)\n",
        "```\n",
        "\n"
      ],
      "metadata": {
        "id": "kM1W_a1Bm8ii"
      }
    },
    {
      "cell_type": "code",
      "source": [
        "import random\n",
        "\n",
        "lst = []\n",
        "lst += random.sample([0, 1, 2, 3], 2)\n",
        "lst += random.sample([0, 1, 2, 3], 2)\n",
        "lst += random.sample([0, 1, 2, 3], 2)\n",
        "lst += random.sample([0, 1, 2, 3], 2)\n",
        "\n",
        "\n",
        "lst_bank = ['기업은행', '제일은행', '우리은행', '국민은행']\n",
        "\n",
        "banks=[]\n",
        "\n",
        "for idx in lst:                # lst = [0, 1, 0, 3, 2, 3, 1, 2]\n",
        "  banks.append(lst_bank[idx])\n",
        "\n",
        "while('기업은행' in banks):\n",
        "    banks.remove('기업은행')\n",
        "\n",
        "print(banks)"
      ],
      "metadata": {
        "colab": {
          "base_uri": "https://localhost:8080/"
        },
        "id": "JSToUXyodJD7",
        "outputId": "76113c98-8883-4d4b-87dd-382eb4681a58"
      },
      "execution_count": 223,
      "outputs": [
        {
          "output_type": "stream",
          "name": "stdout",
          "text": [
            "['우리은행', '제일은행', '우리은행', '국민은행']\n"
          ]
        }
      ]
    },
    {
      "cell_type": "markdown",
      "source": [
        "## 문제 28\n",
        "길이가 23cm이상이고 무게는 250g이상인 생선은 '쿨러에 담는다'고 출력하고 기준에 미달되는 생선은 '방생'이라고 출력합니다.\n",
        "\n",
        "```python\n",
        "fish_length = [14, 15.5, 13.5, 23.5, 28.5, 26.0, 12, 32, 29, 14.5]\n",
        "fish_weight = [100, 150, 140, 250, 300, 280, 80, 315, 220, 90]\n",
        "```\n",
        "\n",
        "* (1) 반복 동작을 `for`문으로 구현하십시오.\n",
        "* (2) 반복 동작을 `while`문으로 구현하십시오."
      ],
      "metadata": {
        "id": "pmreBXwWGXh1"
      }
    },
    {
      "cell_type": "code",
      "source": [
        "#for\n",
        "fish_length = [14, 15.5, 13.5, 23.5, 28.5, 26.0, 12, 32, 29, 14.5]\n",
        "fish_weight = [100, 150, 140, 250, 300, 280, 80, 315, 220, 90]\n",
        "\n",
        "for l,w in zip(fish_length, fish_weight):\n",
        "    if l >= 23 and w >= 250:\n",
        "        print ('쿨러에담는다',l, w)\n",
        "    else:\n",
        "        print('방생', l, w)"
      ],
      "metadata": {
        "colab": {
          "base_uri": "https://localhost:8080/"
        },
        "id": "B3bZTaM-dlrH",
        "outputId": "4e143921-5610-45a6-990d-3948f999744a"
      },
      "execution_count": 226,
      "outputs": [
        {
          "output_type": "stream",
          "name": "stdout",
          "text": [
            "방생 14 100\n",
            "방생 15.5 150\n",
            "방생 13.5 140\n",
            "쿨러에담는다 23.5 250\n",
            "쿨러에담는다 28.5 300\n",
            "쿨러에담는다 26.0 280\n",
            "방생 12 80\n",
            "쿨러에담는다 32 315\n",
            "방생 29 220\n",
            "방생 14.5 90\n"
          ]
        }
      ]
    },
    {
      "cell_type": "code",
      "source": [
        "#while\n",
        "fish_length = [14, 15.5, 13.5, 23.5, 28.5, 26.0, 12, 32, 29, 14.5]\n",
        "fish_weight = [100, 150, 140, 250, 300, 280, 80, 315, 220, 90]\n",
        "\n",
        "count = 0\n",
        "maxCount = len(fish_length)\n",
        "while(count< maxCount):\n",
        "    l = fish_length[count]\n",
        "    w = fish_weight[count]\n",
        "    if l >= 23 and w >= 250:\n",
        "        print ('쿨러에담는다',l, w)\n",
        "    else:\n",
        "        print('방생', l, w)\n",
        "    count+=1"
      ],
      "metadata": {
        "colab": {
          "base_uri": "https://localhost:8080/"
        },
        "id": "VbsVKHFSeQak",
        "outputId": "4582aec3-a7da-4026-8b98-e786ecf0b545"
      },
      "execution_count": 262,
      "outputs": [
        {
          "output_type": "stream",
          "name": "stdout",
          "text": [
            "방생 14 100\n",
            "방생 15.5 150\n",
            "방생 13.5 140\n",
            "쿨러에담는다 23.5 250\n",
            "쿨러에담는다 28.5 300\n",
            "쿨러에담는다 26.0 280\n",
            "방생 12 80\n",
            "쿨러에담는다 32 315\n",
            "방생 29 220\n",
            "방생 14.5 90\n"
          ]
        }
      ]
    },
    {
      "cell_type": "markdown",
      "source": [
        "##문제 29\n",
        "아래 코드를 실행 시켰을 때 다음과 같이 출력 되도록 코드를 완성하시오.\n",
        "\n",
        "```python\n",
        "my_name = ('kim', 'sung pil')\n",
        "\n",
        "(first_name, last_name) =\n",
        "print(last_name, first_name)\n",
        "```"
      ],
      "metadata": {
        "id": "mGAAuKklOHER"
      }
    },
    {
      "cell_type": "code",
      "source": [
        "my_name = ('kim', 'sung pil')\n",
        "\n",
        "(first_name, last_name) = reversed(my_name)\n",
        "print(last_name, first_name)"
      ],
      "metadata": {
        "colab": {
          "base_uri": "https://localhost:8080/"
        },
        "id": "Uq4UnmaIjUZQ",
        "outputId": "c5274931-f3c3-48b2-880d-338b8e1b5133"
      },
      "execution_count": 306,
      "outputs": [
        {
          "output_type": "stream",
          "name": "stdout",
          "text": [
            "kim sung pil\n"
          ]
        }
      ]
    },
    {
      "cell_type": "markdown",
      "source": [
        "##문제 30\n",
        "리스트, `lst`의 최대값, 최소값, 총합을 구하려고 한다. 그리고 평균값을 구하려고 합니다. 아래 코드를 완성하시오.\n",
        "\n",
        "```python\n",
        "lst = [ -2, -1, 0, 1, 2, 3]\n",
        "print('리스트, lst 요소들 중 최대값 :', )\n",
        "print('리스트, lst 요소들 중 최소값 :', )\n",
        "print('리스트, lst 요소들의 합 :', )\n",
        "print('리스트, lst 요소들의 평균값 :', )\n",
        "```"
      ],
      "metadata": {
        "id": "kTyvg3I_IRnp"
      }
    },
    {
      "cell_type": "code",
      "source": [
        "lst = [ -2, -1, 0, 1, 2, 3]\n",
        "\n",
        "print('리스트, lst 요소들 중 최대값 :',  max(lst))\n",
        "print('리스트, lst 요소들 중 최소값 :', min(lst))\n",
        "print('리스트, lst 요소들의 합 :', sum(lst))\n",
        "print('리스트, lst 요소들의 평균값 :', sum(lst)/len(lst))"
      ],
      "metadata": {
        "colab": {
          "base_uri": "https://localhost:8080/"
        },
        "id": "L5fQ_PLLkYs4",
        "outputId": "93896f2b-924f-43cc-acd9-f0a5a20d26bf"
      },
      "execution_count": 261,
      "outputs": [
        {
          "output_type": "stream",
          "name": "stdout",
          "text": [
            "리스트, lst 요소들 중 최대값 : 3\n",
            "리스트, lst 요소들 중 최소값 : -2\n",
            "리스트, lst 요소들의 합 : 3\n",
            "리스트, lst 요소들의 평균값 : 0.5\n"
          ]
        }
      ]
    },
    {
      "cell_type": "markdown",
      "source": [
        "## 문제 31\n",
        "다음 코드에서`lst_banks`의 요수의 값이 '기업은행'일 때 인덱스 값을 출력하는 코드를 작성하시오.\n",
        "\n",
        "```python\n",
        "import random\n",
        "\n",
        "banks = ['국민은행', '기업은행', '우리은행', '제일은행', '신한은행']\n",
        "\n",
        "lst_banks = []\n",
        "lst_banks += random.sample(banks, 2)\n",
        "lst_banks += random.sample(banks, 2)\n",
        "lst_banks += random.sample(banks, 2)\n",
        "lst_banks += random.sample(banks, 2)\n",
        "```\n",
        "\n",
        "\n"
      ],
      "metadata": {
        "id": "-SVCkNFgKfSq"
      }
    },
    {
      "cell_type": "code",
      "source": [
        "import random\n",
        "\n",
        "banks = ['국민은행', '기업은행', '우리은행', '제일은행', '신한은행']\n",
        "\n",
        "lst_banks = []\n",
        "lst_banks += random.sample(banks, 2)\n",
        "lst_banks += random.sample(banks, 2)\n",
        "lst_banks += random.sample(banks, 2)\n",
        "lst_banks += random.sample(banks, 2)\n",
        "\n",
        "index = 0\n",
        "for b in lst_banks:\n",
        "    if b == '기업은행':\n",
        "        print(index)\n",
        "    index += 1\n",
        "\n",
        "#print(lst_banks)\n"
      ],
      "metadata": {
        "colab": {
          "base_uri": "https://localhost:8080/"
        },
        "id": "BCoVq799mpJ_",
        "outputId": "6e26af40-a485-4ee3-8a19-123863b7f3d3"
      },
      "execution_count": 282,
      "outputs": [
        {
          "output_type": "stream",
          "name": "stdout",
          "text": [
            "5\n"
          ]
        }
      ]
    },
    {
      "cell_type": "markdown",
      "source": [
        "## 문제 32\n",
        "아래 보인 코드에서 리스트, `lst`를 활용하여 리스트 `rlst`와 같이 값으로 변경 되도록 리스트 내포를 활용한 코드를 작성하시오.\n",
        "\n",
        "```python\n",
        "lst = list( range(1, 9, 2) )\n",
        "rlst = [ ]\n",
        "print(rlst)\n",
        "```\n",
        "\n",
        "<center>\n",
        "\n",
        "![image.png](data:image/png;base64,iVBORw0KGgoAAAANSUhEUgAAAHQAAAAXCAYAAADa+mvTAAAAAXNSR0IArs4c6QAAAARnQU1BAACxjwv8YQUAAAAJcEhZcwAADsMAAA7DAcdvqGQAAAEoSURBVGhD7ZkBDsIgDEXRm2z3P9OuotZA0mBLGbQ6S19ChiPrp3wY27w9XqTADfd8DJwQhjojDHUGu4fu+55rKR3HkWvBr5F8aRraMlJqnwF3GtDWacWv2wqWudaxe/KnrnsDhlJs25Zrn0Bbq30GKq6mlhTfKi8K0Kr1pP4VuH4O7aFWszWYZ7mHoqtMRvaWOcnyT7ncHobLP7G0oZSZAJzDRdtUTleDyxlaBhAXC7hBtRroXmbzv+QKhaRw0YYz8xv0aOPcz/ZzuVuuNKBnV8QIoFFK+a2FmaGjney9TnMQRhjVp1YfnmCzeZl9KZLaW9RJUXFG49exCziWpX4NFWdG3+RbrlayHNbxJX6pL/kSf3A7Y+n3UI+Eoc4IQ50RhjojDHVFSk8zBWzxmr77HQAAAABJRU5ErkJggg==)\n",
        "</center>"
      ],
      "metadata": {
        "id": "ialhCZ77NaCS"
      }
    },
    {
      "cell_type": "code",
      "source": [
        "lst = list( range(1, 9, 2) )\n",
        "rlst = [ i**2 for i in lst]\n",
        "\n",
        "print(rlst)"
      ],
      "metadata": {
        "colab": {
          "base_uri": "https://localhost:8080/"
        },
        "id": "Gmtil-LQoQM8",
        "outputId": "a85ac093-30c4-4a87-b9aa-2a533e380471"
      },
      "execution_count": 287,
      "outputs": [
        {
          "output_type": "stream",
          "name": "stdout",
          "text": [
            "[1, 9, 25, 49]\n"
          ]
        }
      ]
    },
    {
      "cell_type": "markdown",
      "source": [
        "##문제 33\n",
        "1부터 10까지 양의 정수를 요소로 하는 리스트, `lst`가 있습니다. `lst`의 요소가 짝수이면 `True` 홀수이면 `False'를 값으로 하는 리트스, `rlst`를 생설하려고 합니다. 리스트 내포를 활용하여 코드를 완성하시오.\n",
        "\n",
        "```python\n",
        "lst = list(range(1, 11))\n",
        "rlst = []\n",
        "print(rlst)\n",
        "```"
      ],
      "metadata": {
        "id": "VWKm-nVfhjBA"
      }
    },
    {
      "cell_type": "code",
      "source": [
        "lst = list(range(1, 11))\n",
        "rlst = [False if i % 2 else True for i in lst]\n",
        "\n",
        "print(rlst)"
      ],
      "metadata": {
        "colab": {
          "base_uri": "https://localhost:8080/"
        },
        "id": "0yET1DN2oxnG",
        "outputId": "2cde888c-9a1b-4ca9-adfa-736181922c1e"
      },
      "execution_count": 291,
      "outputs": [
        {
          "output_type": "stream",
          "name": "stdout",
          "text": [
            "[False, True, False, True, False, True, False, True, False, True]\n"
          ]
        }
      ]
    },
    {
      "cell_type": "markdown",
      "source": [
        "##문제 34\n",
        "1부터 10까지 양의 정수에서 짝수이면 True라고 판단하고 홀수이면 False로 판단하여 판단 결과를 값으로 하는 리트스,`rlst`를 생성하려고 합니다. 리스트 내포를 활용하여 한 줄 코드로 작성하시오.\n",
        "\n",
        "```python\n",
        "rlst = []\n",
        "print(rlst)\n",
        "```"
      ],
      "metadata": {
        "id": "_n9icAd5kTUS"
      }
    },
    {
      "cell_type": "code",
      "source": [
        "rlst = [False if i%2 else True for i in range(1,11)]\n",
        "print(rlst)"
      ],
      "metadata": {
        "colab": {
          "base_uri": "https://localhost:8080/"
        },
        "id": "MHFELrrLpM3P",
        "outputId": "a78a016a-ef22-4f6d-f749-7fb9893f6960"
      },
      "execution_count": 292,
      "outputs": [
        {
          "output_type": "stream",
          "name": "stdout",
          "text": [
            "[False, True, False, True, False, True, False, True, False, True]\n"
          ]
        }
      ]
    },
    {
      "cell_type": "markdown",
      "source": [
        "##문제 35\n",
        "변수 $x$의 범위는 1부터 15까지 양의 정수입니다.\n",
        "$$y = 2x + 3$$\n",
        "변수 $y$의 값을 리스트 형태로 보관하고 싶습니다. 그런데 이 때 $x$의 값이 5일 때와 11일 때는 제외하고 싶습니다.\n",
        "\n",
        "\n"
      ],
      "metadata": {
        "id": "nfvDGYcFlQBc"
      }
    },
    {
      "cell_type": "code",
      "source": [
        "x = list(range(1,16))\n",
        "y = [2*i+3 for i in x if i not in [5,11]]\n",
        "\n",
        "print(x)\n",
        "print(y)"
      ],
      "metadata": {
        "colab": {
          "base_uri": "https://localhost:8080/"
        },
        "id": "94XdZ74OpgNb",
        "outputId": "5bfee584-d43e-4ea8-f08d-34487bb84a28"
      },
      "execution_count": 300,
      "outputs": [
        {
          "output_type": "stream",
          "name": "stdout",
          "text": [
            "[1, 2, 3, 4, 5, 6, 7, 8, 9, 10, 11, 12, 13, 14, 15]\n",
            "[5, 7, 9, 11, 15, 17, 19, 21, 23, 27, 29, 31, 33]\n"
          ]
        }
      ]
    },
    {
      "cell_type": "markdown",
      "source": [
        "##문제 36\n",
        "1부터 15까지의 양의 정수 범위에서 3의 배수인 경우는 문자열,'3의 배수' 그 외 경우는 나머지 값을 요소로 하는 리스트를 생성하는 코드를 작성하시오. 출력 결과는 다음과 같습니다.\n",
        "\n",
        "<center>\n",
        "\n",
        "![image.png](data:image/png;base64,iVBORw0KGgoAAAANSUhEUgAAAtMAAAAXCAYAAADJEsO6AAAAAXNSR0IArs4c6QAAAARnQU1BAACxjwv8YQUAAAAJcEhZcwAADsMAAA7DAcdvqGQAAARfSURBVHhe7d3rbtw4DIbh6d5Jcv/XlFvZrYKwYLk6UAfKlud9AKEzHs9HWuYPN2jQX//+9gIAAADQ7Z+fPwEAAAB04mEaAAAAGMTDNAAAADDor4fpz8/PPwv9IvZNZ/bmcx/PwvxgBvODGcwPZjx1flKOrJr//WT66+vre+Wsai5HNxxVp5brre85p5fNWpndI7puZH7K1itCLddb33NOL5u1MrtHdN3I/JStV4Rarre+55xeNmtldo/oupH5KVuvCLVcb33POb1s1srsHtF1I/NTtl4Rarne+p5zetmsldk9SnVrz8Sa+595RF5gypaGZe3cUG99e97OHk8XuVfe+xfFW9+et7PH00Xulff+RfHWt+ft7PF0kXvlvX9RvPXteTt7PF3kXnnvXxRvfXvezh5P4H6YTpv3zmSQtDsPlPR7l/6YH+ZnBvPD/MxgfpifGcwP89Nyi19A3DWopTq76u+QhkcPvgyUZ6hO3YddfZfqnLpvOcxPnFKdU/cth/mJU6pz6r7lMD9xSnVO3becK+fnFg/Tlt6MnWTTr6iva1ul45qck/q2vcsxT84TyD7sJvt7RX1d2yod1+QcmRVNjnlynkD2YTfZ3yvq69pW6bgm58isaHLMk/MEsg+7yf5eUV/XtkrHNTlHZkWTY56cJ5B92E3294r6urZVOq7JOTIrmhzz5ExJ/wOi+Pj4+HmV1/p8hR01PHJ92GOt9161nNLrE+3o/y57lOvDHmu996rllF6faEf/d9mjXB/2WOu9Vy2n9PpEO/q/yx7l+rDHWu+9ajml1yfa0f9d9ijXhz3Weu9Vyym9vkKr/q1+Mi1/s7gr/bebu/f6jpgfzGB+MIP5wQzm52y3eZg+5eakHmXdhR5wz3qidF3Mzxg7H631ROm6mJ8xdj5a64nSdTE/Y+x8tNYTpetifsbY+WitKLd4mE4XeOXNidzgHfSA61X67GmYnzl2PmSVPnsa5meOnQ9Zpc+ehvmZY+dDVumzp2F+5tj5kFX6LMrSh+nom3LVTU91W+sdRF/n6fklMiO19Q6ir/P0/BKZkdp6B9HXeXp+icxIbb2D6Os8Pb9EZqS28Hr9Sv9w+uf196bUntxnPy8p3QybNZrvYXsYvY7R/nR9naEze/Nn+smZzWt9fzQ/fS/HZq3eD832MHodo/3p+jpDZ/bmz/STM5vX+v5ofvpejs1avR+a7WH0Okb70/V1hs7szZ/pJ2c2r/X90fz0vRybtXo/NNvD6HWM9qfr6wyd2Zs/00/ObF7r+6P56Xs5Nmv1fmi2h9HrGO1P19cZOrM3f6afnGbe968h/ki/rSirV/RvWkbnrxDRo87szV/ZT/T+n56/QkSPOrM3f2U/0ft/ev4KET3qzN78lf1E7//p+StE9Kgze/NX9hO9/6fnrxDRo87szV/VT8qRVfPXT6YBAAAA+N3yP20BAAAATsDDNAAAADCIh2kAAABgEA/TAAAAwCAepgEAAIAhr9d/pDtHx8TQx88AAAAASUVORK5CYII=)\n",
        "\n",
        "</center>\n"
      ],
      "metadata": {
        "id": "_sta9UcqvGNW"
      }
    },
    {
      "cell_type": "code",
      "source": [
        "lst = ['3의배수' if i%3 == 0 else i%3 for i in range(1,16)]\n",
        "print(lst)"
      ],
      "metadata": {
        "colab": {
          "base_uri": "https://localhost:8080/"
        },
        "id": "p37SXcDjqHoo",
        "outputId": "af0492e0-ac76-4e0c-cb6e-4a86fe2b588b"
      },
      "execution_count": 302,
      "outputs": [
        {
          "output_type": "stream",
          "name": "stdout",
          "text": [
            "[1, 2, '3의배수', 1, 2, '3의배수', 1, 2, '3의배수', 1, 2, '3의배수', 1, 2, '3의배수']\n"
          ]
        }
      ]
    },
    {
      "cell_type": "markdown",
      "source": [
        "##문제 37\n",
        "\n",
        "아래 코드의 데이터를 활용하여 하나의 문자열 데이터 `'2023-06-11'`를 생성하는 코드를 작성하시오.\n",
        "\n",
        "```python\n",
        "year = '2023'\n",
        "month = '06'\n",
        "day = '11'\n",
        "```\n",
        "\n"
      ],
      "metadata": {
        "id": "nN3334aYwYP7"
      }
    },
    {
      "cell_type": "code",
      "source": [
        "year = '2023'\n",
        "month = '06'\n",
        "day = '11'\n",
        "\n",
        "print(\"-\".join([year,month,day]))"
      ],
      "metadata": {
        "colab": {
          "base_uri": "https://localhost:8080/"
        },
        "id": "p5EhQ9XlqoR9",
        "outputId": "57887a2f-a316-48df-e2db-5c0eba71a484"
      },
      "execution_count": 305,
      "outputs": [
        {
          "output_type": "stream",
          "name": "stdout",
          "text": [
            "2023-06-11\n"
          ]
        }
      ]
    },
    {
      "cell_type": "markdown",
      "source": [
        "##문제 38\n",
        "```python\n",
        "for 반복자 in 반복할_수_있는_것:\n",
        "  #statement(문장)\n",
        "```\n",
        "\n",
        "위 코드에서 `반복할_수_있는_것`을 프로그래밍 용어로 **이터러블(iterable)**이라고 합니다. 즉 이터러블은 내부에 있는 요소를 하나씩 꺼낼 수 있는 객체를 의미합니다. 리스트, 딕셔너리, 문자열, 튜플 등은 모두 내부에서 요소를 하나씩 꺼낼 수 있으므로 이터러블입니다.\n",
        "\n",
        "```python\n",
        "numbers = [1, 2, 3, 4, 5, 6]\n",
        "r_num = reversed(numbers)\n",
        "\n",
        "print(next(r_num))\n",
        "print(next(r_num))\n",
        "print(next(r_num))\n",
        "print(next(r_num))\n",
        "print(next(r_num))\n",
        "print(next(r_num))\n",
        "```\n",
        "\n",
        "먼저, 위 코드의 실행 결과를 확인 후 위 코드와 동일한 동작을 하도록 아래 코드를 완성하시오.\n"
      ],
      "metadata": {
        "id": "Cwg7GhwZyAu8"
      }
    },
    {
      "cell_type": "code",
      "source": [
        "numbers = [1, 2, 3, 4, 5, 6]\n",
        "\n",
        "for i in reversed(numbers):\n",
        "    print(i)"
      ],
      "metadata": {
        "colab": {
          "base_uri": "https://localhost:8080/"
        },
        "id": "3OkLRzC1rQi8",
        "outputId": "cbf1112c-5a97-40b2-eb22-ce1ddb648ae3"
      },
      "execution_count": 312,
      "outputs": [
        {
          "output_type": "stream",
          "name": "stdout",
          "text": [
            "6\n",
            "5\n",
            "4\n",
            "3\n",
            "2\n",
            "1\n"
          ]
        }
      ]
    }
  ]
}